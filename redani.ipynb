{
 "cells": [
  {
   "cell_type": "markdown",
   "metadata": {},
   "source": [
    "# Redani: Reddit Animal Counter\n",
    "\n",
    "This is the code for the reddit post [here](https://www.reddit.com/r/dataisbeautiful/comments/ahxqob/animals_most_mentioned_on_reddit_post_titles_oc/) in [r/dataisbeautiful](https://www.reddit.com/r/dataisbeautiful/)\n",
    "It counts the number of times the name of an animal is mentioned in reddit post titles.\n",
    "\n",
    "This is also a good example to get started with the PRAW (Python Reddit API Wrapper) API and PSAW API.\n",
    "\n",
    "Feel free to send a pull request in case of any errors/suggestions. If you like this, do check out some of my other projects!"
   ]
  },
  {
   "cell_type": "markdown",
   "metadata": {},
   "source": [
    "## Getting Animal Names\n",
    "\n",
    "The first step is to get a list of animal names which we can use to search for animal names in submission titles.\n",
    "\n",
    "The best place to do that is [this](https://en.wikipedia.org/wiki/List_of_animal_names) wikipedia article, which basically has a bunch of common animal names.\n",
    "\n",
    "To get the values from the table in the above link, we will be using BeautifulSoup4 which is a web scraping tool.\n",
    "\n",
    "### Step 1: Import the modules we need"
   ]
  },
  {
   "cell_type": "code",
   "execution_count": 1,
   "metadata": {},
   "outputs": [],
   "source": [
    "from bs4 import BeautifulSoup as bs\n",
    "import requests\n",
    "import re\n",
    "\n",
    "LINK = 'https://en.wikipedia.org/wiki/List_of_animal_names' #Link to the wikipedia page"
   ]
  },
  {
   "cell_type": "markdown",
   "metadata": {},
   "source": [
    "### Step 2: Get the Page Contents and Extract the Tables"
   ]
  },
  {
   "cell_type": "code",
   "execution_count": 2,
   "metadata": {},
   "outputs": [],
   "source": [
    "# Using the requests module we can get the page\n",
    "page = requests.get(LINK)\n",
    "\n",
    "# Next we parse the page contents using beautifulsoup\n",
    "soup=bs(page.content, 'html.parser')\n",
    "\n",
    "# There are two tables in the wikipedia page. So we find both and then select the larger table\n",
    "tables = soup.find_all('table') # Finding table\n",
    "\n",
    "# num_rows contain the number of rows in each table\n",
    "num_rows=[len(table.find('tbody').find_all('tr')) for table in tables]"
   ]
  },
  {
   "cell_type": "markdown",
   "metadata": {},
   "source": [
    "### Step 3: Extract all the Animal Names from the Largest Table"
   ]
  },
  {
   "cell_type": "code",
   "execution_count": 3,
   "metadata": {},
   "outputs": [
    {
     "name": "stdout",
     "output_type": "stream",
     "text": [
      "['Aardvark', 'Albatross', 'Alligator', 'Alpaca', 'Ant', 'Anteater', 'Antelope', 'Ape', 'Armadillo', 'Donkey', 'Baboon', 'Badger', 'Barracuda', 'Bat', 'Bear', 'Beaver', 'Bee', 'Bird', 'Bison', 'Boar', 'African buffalo', 'Butterfly', 'Camel', 'Caribou', 'Cassowary', 'Cat', 'Caterpillar', 'Cattle', 'Chameleon', 'Chamois', 'Cheetah', 'Chicken', 'Chimpanzee', 'Chinchilla', 'Chough', 'Coati', 'Cobra', 'Cockroach', 'Cod', 'Cormorant', 'Coyote', 'Crab', 'Crane (bird)', 'Crocodile', 'Crow', 'Curlew', 'Deer', 'Dinosaur', 'Dog', 'Squalidae', 'Dolphin', 'Donkey', 'Dotterel', 'Dove', 'Dragonfly', 'Duck', 'Dugong', 'Dunlin', 'Eagle', 'Echidna', 'Eel', 'Taurotragus', 'Elephant', 'Elephant seal', 'Elk', 'Emu', 'Falcon', 'Ferret', 'Finch', 'Fish', 'Flamingo', 'Fly', 'Fox', 'Frog', 'Gaur', 'Gazelle', 'Gerbil', 'Giant panda', 'Giraffe', 'Gnat', 'Wildebeest', 'Goat', 'European goldfinch', 'Common merganser', 'Goose', 'Gorilla', 'Goshawk', 'Grasshopper', 'Grouse', 'Guanaco', 'Guinea fowl', 'Guinea pig', 'Gull', 'Hamster', 'Hare', 'Hawk', 'Hedgehog', 'Heron', 'Herring', 'Hippopotamus', 'Hornet', 'Horse', 'Hummingbird', 'Hyena', 'Ibex', 'Ibis', 'Impala', 'Jackal', 'Jaguar', 'Jay', 'Jellyfish', 'Kangaroo', 'Kinkajou', 'Koala', 'Komodo dragon', 'Kouprey', 'Kudu', 'Lapwing', 'Lark', 'Lemur', 'Leopard', 'Lion', 'Llama', 'Lobster', 'Locust', 'Loris', 'Louse', 'Lyrebird', 'Magpie', 'Mallard', 'Mammoth', 'Manatee', 'Mandrill', 'Mink', 'Mole (animal)', 'Mongoose', 'Monkey', 'Moose', 'Mosquito', 'Mouse', 'Narwhal', 'Newt', 'Nightingale', 'Nine-banded armadillo', 'Octopus', 'Okapi', 'Opossum', 'Ostrich', 'Otter', 'Owl', 'Oyster', 'Black panther', 'Parrot', 'Panda', 'Partridge', 'Peafowl', 'Pelican', 'Penguin', 'Pheasant', 'Domestic pig', 'Pigeon', 'Polar bear', 'Pony', 'Porcupine', 'Porpoise', 'Prairie dog', 'Pug', 'Quail', 'Quelea', 'Quetzal', 'Rabbit', 'Raccoon', 'Sheep', 'Rat', 'Raven', 'Red deer', 'Red panda', 'Reindeer', 'Rhinoceros', 'Rook (bird)', 'Salamander', 'Salmon', 'Sand dollar', 'Sandpiper', 'Sardine', 'Sea lion', 'Seahorse', 'Pinniped', 'Shark', 'Sheep', 'Shrew', 'Siamang', 'Skunk', 'Sloth', 'Snail', 'Snake', 'Spider', 'Squid', 'Squirrel', 'Starling', 'Stegosaurus', 'Swan', 'Tapir', 'Tarsier', 'Termite', 'Tiger', 'Toad', 'Domesticated turkey', 'Turtle', 'Vicuña', 'Wallaby', 'Walrus', 'Wasp', 'Water buffalo', 'Weasel', 'Whale', 'Wolf', 'Wolverine', 'Wombat', 'Wren', 'Yak', 'Zebra']\n"
     ]
    }
   ],
   "source": [
    "# We select the table with the maximum number of rows by finding the index of the largest value in num_rows\n",
    "table=tables[num_rows.index(max(num_rows))]\n",
    "animal_list=[]\n",
    "\n",
    "# Finally, for each row in the table, we extract the 'title' field of the first column\n",
    "for row in table.find('tbody').find_all('tr'):\n",
    "    if row.find_all('td'):\n",
    "        animal_list.append(row.find_all('td')[0].find('a').get('title'))\n",
    "\n",
    "# Let's print the animal list to see which animals we have\n",
    "print(animal_list)"
   ]
  },
  {
   "cell_type": "markdown",
   "metadata": {},
   "source": [
    "### Step 4: Preprocess the Animal Names\n",
    "\n",
    "Some of the animal names contain two words and some contain the type of animal like (bird) etc.\n",
    "We remove both of them as redditors usually will not specify them in their posts.\n",
    "For example, we usually write buffalo instead of water buffalo"
   ]
  },
  {
   "cell_type": "code",
   "execution_count": 4,
   "metadata": {},
   "outputs": [
    {
     "name": "stdout",
     "output_type": "stream",
     "text": [
      "['gerbil', 'caterpillar', 'dugong', 'barracuda', 'hamster', 'hyena', 'rat', 'mongoose', 'rhinoceros', 'squirrel', 'weasel', 'shark', 'raven', 'dunlin', 'kouprey', 'jay', 'fish', 'cat', 'newt', 'fly', 'eagle', 'wasp', 'mosquito', 'aardvark', 'vicuña', 'emu', 'ape', 'elephant', 'echidna', 'yak', 'seahorse', 'stegosaurus', 'lion', 'turtle', 'cheetah', 'hornet', 'okapi', 'gull', 'moose', 'sloth', 'baboon', 'turkey', 'pug', 'parrot', 'armadillo', 'partridge', 'wolverine', 'panther', 'herring', 'wolf', 'hedgehog', 'tarsier', 'grouse', 'chough', 'frog', 'snake', 'cattle', 'tiger', 'cassowary', 'salamander', 'curlew', 'coati', 'gazelle', 'guanaco', 'mink', 'pinniped', 'kangaroo', 'deer', 'coyote', 'hawk', 'bear', 'loris', 'narwhal', 'rabbit', 'antelope', 'crow', 'seal', 'fox', 'buffalo', 'horse', 'sheep', 'sandpiper', 'raccoon', 'impala', 'dog', 'jaguar', 'termite', 'anteater', 'shrew', 'taurotragus', 'oyster', 'duck', 'giraffe', 'finch', 'rook', 'falcon', 'spider', 'koala', 'lyrebird', 'swan', 'lobster', 'snail', 'flamingo', 'magpie', 'gorilla', 'alpaca', 'badger', 'boar', 'grasshopper', 'jellyfish', 'hippopotamus', 'monkey', 'dragon', 'kinkajou', 'wildebeest', 'nightingale', 'chameleon', 'lemur', 'crab', 'reindeer', 'skunk', 'whale', 'ant', 'cormorant', 'wren', 'fowl', 'leopard', 'squalidae', 'goshawk', 'louse', 'mandrill', 'porcupine', 'kudu', 'cod', 'camel', 'manatee', 'panda', 'peafowl', 'jackal', 'wombat', 'beaver', 'butterfly', 'alligator', 'crane', 'dotterel', 'hummingbird', 'tapir', 'chimpanzee', 'quetzal', 'pony', 'bison', 'salmon', 'squid', 'pelican', 'chinchilla', 'llama', 'caribou', 'pig', 'pheasant', 'octopus', 'gnat', 'dinosaur', 'walrus', 'bee', 'toad', 'goat', 'otter', 'owl', 'ostrich', 'siamang', 'opossum', 'crocodile', 'dolphin', 'dove', 'merganser', 'sardine', 'dragonfly', 'locust', 'lapwing', 'cobra', 'gaur', 'pigeon', 'eel', 'penguin', 'porpoise', 'hare', 'goldfinch', 'quelea', 'bat', 'chamois', 'donkey', 'albatross', 'starling', 'quail', 'elk', 'wallaby', 'mole', 'ibex', 'chicken', 'mammoth', 'zebra', 'bird', 'goose', 'cockroach', 'mouse', 'lark', 'mallard', 'heron', 'ferret', 'ibis']\n"
     ]
    }
   ],
   "source": [
    "# We use regex to remove any text of the form <(word)> and convert everything to lower case\n",
    "animal_list=[re.sub(re.compile('\\s\\(\\w+\\)'), \"\", animal).lower() for animal in animal_list]\n",
    "\n",
    "# If the animal name contains two words, we split the word and only use the second one\n",
    "# For example 'water buffalo' becomes 'buffalo'\n",
    "# This creates a problem with the animal 'sand dollar' which we handle later on\n",
    "animal_list=[animal.split(' ')[1] if ' ' in animal else animal for animal in animal_list]\n",
    "\n",
    "# We use set to remove any duplicates in our animal list\n",
    "animal_list=list(set(animal_list))\n",
    "\n",
    "# 'Sand Dollar' gets converted to 'dollar' which is not an animal, so we remove it from the list\n",
    "# Sorry Sand Dollar, you just aren't that important to redditors!\n",
    "animal_list.remove('dollar')\n",
    "\n",
    "# Now animal list looks like\n",
    "print(animal_list)"
   ]
  },
  {
   "cell_type": "markdown",
   "metadata": {},
   "source": [
    "### Step 5: We can now use the PRAW and PSAW to get reddit posts\n",
    "\n",
    "The reason for not using PRAW completely is because it is not possible to get more than 1000 posts at a time. Further, you cannot get posts by a particular date.\n",
    "\n",
    "To solve this issue we use the pushshift api.\n",
    "\n",
    "First, we import all the modules"
   ]
  },
  {
   "cell_type": "code",
   "execution_count": 5,
   "metadata": {},
   "outputs": [],
   "source": [
    "import praw\n",
    "from psaw import PushshiftAPI\n",
    "import datetime as dt\n",
    "from tqdm import tqdm"
   ]
  },
  {
   "cell_type": "markdown",
   "metadata": {},
   "source": [
    "### Step 6: Create a PRAW and PSAW object\n",
    "\n",
    "I have left the `client_id`, `client_secret`, `user_agent` fields blank.\n",
    "You can get your own client_id's and all from the reddit developer page"
   ]
  },
  {
   "cell_type": "code",
   "execution_count": 6,
   "metadata": {},
   "outputs": [
    {
     "name": "stdout",
     "output_type": "stream",
     "text": [
      "True\n"
     ]
    }
   ],
   "source": [
    "# Create a praw object\n",
    "reddit=praw.Reddit(client_id='your id', client_secret='your secret', user_agent='your agent')\n",
    "\n",
    "# Use the praw object to create a psaw object\n",
    "api = PushshiftAPI(reddit)\n",
    "\n",
    "# Check to see if it is working\n",
    "print(reddit.read_only)"
   ]
  },
  {
   "cell_type": "markdown",
   "metadata": {},
   "source": [
    "### Step 7: Get Submissions from a particular date range"
   ]
  },
  {
   "cell_type": "code",
   "execution_count": 7,
   "metadata": {},
   "outputs": [],
   "source": [
    "# Using the datetime module we can get the unix timestamps\n",
    "start_epoch=int(dt.datetime(2018, 1, 1).timestamp())\n",
    "end_epoch=int(dt.datetime(2019, 1, 1).timestamp())\n",
    "\n",
    "# This will create a generator that you can query for all posts within a particular date\n",
    "submissions=api.search_submissions(after=start_epoch, before=end_epoch)"
   ]
  },
  {
   "cell_type": "markdown",
   "metadata": {},
   "source": [
    "### Step 8: Lets get all the posts and save them to a text file\n",
    "\n",
    "Since there can be a lot of posts, you might run out of memory.\n",
    "So create a `data.txt` where we can write our posts."
   ]
  },
  {
   "cell_type": "code",
   "execution_count": 8,
   "metadata": {},
   "outputs": [
    {
     "name": "stdout",
     "output_type": "stream",
     "text": [
      "Total : 500\n",
      "1546309727.0\n",
      "Time: 21.25840401649475\n",
      "_______________\n"
     ]
    }
   ],
   "source": [
    "import time\n",
    "\n",
    "count=0\n",
    "title_cache=[]\n",
    "\n",
    "# Using time we can check how long it takes to get posts\n",
    "start_time=time.time()\n",
    "\n",
    "for sub in submissions:\n",
    "    \n",
    "    #We keep track of a counter to count how many posts have been received\n",
    "    count=count+1\n",
    "    \n",
    "    # Appending the title to a list\n",
    "    title_cache.append(sub.title.lower())\n",
    "    \n",
    "    # Instead of saving posts one at a time,\n",
    "    # We save it every 500 posts\n",
    "    if count%500==0:\n",
    "        with open('data.txt', 'w') as f:\n",
    "            for title in title_cache:\n",
    "                f.write(f\"{title}\\n\") # Write each title to a new line\n",
    "        print(f\"Total : {count}\")\n",
    "\n",
    "        # Print the time when the last submission was posted\n",
    "        # You can use this to estimate how long it might take to get posts\n",
    "        print(sub.created)\n",
    "        \n",
    "        #Print time elapsed\n",
    "        print(f\"Time: {time.time()-start_time}\")\n",
    "        start_time=time.time()\n",
    "        print('_______________')\n",
    "        \n",
    "        # Remove the next line to keep it running indefinitely\n",
    "        break"
   ]
  },
  {
   "cell_type": "markdown",
   "metadata": {},
   "source": [
    "### Step 9: Count the Occurences of each Animal\n",
    "\n",
    "We create a dictionary of `animal_name`:`count`\n",
    "\n",
    "To do this, we open the text file and search for the count of the words `\" <animal> \"` and `\" <animal>s \"`\n",
    "\n",
    "Note: We cannot just search for the animal as it will also take into account substrings like\n",
    "for example `'ant' in 'cant'` will result in `True`"
   ]
  },
  {
   "cell_type": "code",
   "execution_count": 13,
   "metadata": {},
   "outputs": [],
   "source": [
    "animal_dict={}\n",
    "\n",
    "# Open the file as f\n",
    "with open('data.txt', 'r') as f:\n",
    "    lines=f.read()\n",
    "    for animal in animal_list:\n",
    "        \n",
    "        # Count the occurences of the animal in the file\n",
    "        animal_dict[animal]=lines.count(\" \"+animal+\" \")+lines.count(\" \"+animal+\"s \")\n",
    "\n",
    "# Here we sort it to get the top 20 mentioned animals\n",
    "# This returns a list of tuples of the form [(animal1, count1), (animal2, count2)]\n",
    "animals_sorted=sorted(animal_dict.items(), key=lambda kv: kv[1], reverse=True)[:20]\n",
    "\n",
    "# Finally, we seperate the keys (animals) and values (count) into two lists for wasy plotting\n",
    "count=[]\n",
    "animals=[]\n",
    "for animal in animals_sorted:\n",
    "    animals.append(animal[0])\n",
    "    count.append(animal[1])"
   ]
  },
  {
   "cell_type": "markdown",
   "metadata": {},
   "source": [
    "### Step 10: Plotting the graph\n",
    "\n",
    "We use matplotlib to plot the graph. So we need to import it"
   ]
  },
  {
   "cell_type": "code",
   "execution_count": 14,
   "metadata": {},
   "outputs": [
    {
     "data": {
      "image/png": "[encoded data removed]",
      "text/plain": [
       "<Figure size 432x288 with 1 Axes>"
      ]
     },
     "metadata": {
      "needs_background": "light"
     },
     "output_type": "display_data"
    }
   ],
   "source": [
    "%matplotlib inline\n",
    "import matplotlib.pyplot as plt\n",
    "import numpy as np\n",
    "\n",
    "index = np.arange(len(count))\n",
    "bar_width=0.5\n",
    "plt.bar(index, count)\n",
    "plt.xlabel(\"animals\")\n",
    "plt.ylabel('No. of Animals')\n",
    "plt.xticks(index, animals, rotation=30)\n",
    "for a, b in zip(index, count):\n",
    "    plt.text(a, b, str(b))\n",
    "plt.show()"
   ]
  }
 ],
 "metadata": {
  "kernelspec": {
   "display_name": "Python 3",
   "language": "python",
   "name": "python3"
  },
  "language_info": {
   "codemirror_mode": {
    "name": "ipython",
    "version": 3
   },
   "file_extension": ".py",
   "mimetype": "text/x-python",
   "name": "python",
   "nbconvert_exporter": "python",
   "pygments_lexer": "ipython3",
   "version": "3.6.5"
  }
 },
 "nbformat": 4,
 "nbformat_minor": 2
}
